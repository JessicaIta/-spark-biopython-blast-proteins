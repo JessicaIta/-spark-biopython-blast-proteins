{
 "cells": [
  {
   "cell_type": "markdown",
   "id": "square-regulation",
   "metadata": {},
   "source": [
    "# BLAST Proteins\n",
    "\n",
    "Execução do BLAST através do Biopython no ambiente jupyter."
   ]
  },
  {
   "cell_type": "code",
   "execution_count": 1,
   "id": "micro-maine",
   "metadata": {},
   "outputs": [],
   "source": [
    "from Bio.Blast.Applications import NcbimakeblastdbCommandline\n",
    "from Bio.Blast.Applications import NcbiblastpCommandline"
   ]
  },
  {
   "cell_type": "code",
   "execution_count": 2,
   "id": "corrected-lebanon",
   "metadata": {},
   "outputs": [],
   "source": [
    "#Criação do banco\n",
    "cLine = NcbimakeblastdbCommandline(dbtype=\"prot\", title=\"goodProteins\", input_file=\"goodProteins.fasta\")"
   ]
  },
  {
   "cell_type": "code",
   "execution_count": 3,
   "id": "disturbed-friday",
   "metadata": {},
   "outputs": [
    {
     "data": {
      "text/plain": [
       "NcbimakeblastdbCommandline(cmd='makeblastdb', dbtype='prot', input_file='goodProteins.fasta', title='goodProteins')"
      ]
     },
     "execution_count": 3,
     "metadata": {},
     "output_type": "execute_result"
    }
   ],
   "source": [
    "cLine"
   ]
  },
  {
   "cell_type": "code",
   "execution_count": 4,
   "id": "beginning-gardening",
   "metadata": {},
   "outputs": [
    {
     "name": "stdout",
     "output_type": "stream",
     "text": [
      "makeblastdb -dbtype prot -in goodProteins.fasta -title goodProteins\n"
     ]
    }
   ],
   "source": [
    "print(cLine)"
   ]
  },
  {
   "cell_type": "code",
   "execution_count": 5,
   "id": "fatal-finder",
   "metadata": {},
   "outputs": [],
   "source": [
    "stdout, stderr = cLine()"
   ]
  },
  {
   "cell_type": "code",
   "execution_count": 6,
   "id": "agricultural-terrorism",
   "metadata": {},
   "outputs": [],
   "source": [
    "# Execução do BLASTP\n",
    "cLineProtein = NcbiblastpCommandline(query=\"goodProteins.fasta\", db=\"goodProteins.fasta\",\n",
    "                                     evalue=1e-5, outfmt=6, out=\"resultado_tabular\")"
   ]
  },
  {
   "cell_type": "code",
   "execution_count": 7,
   "id": "immediate-prairie",
   "metadata": {},
   "outputs": [
    {
     "name": "stdout",
     "output_type": "stream",
     "text": [
      "blastp -out resultado_tabular -outfmt 6 -query goodProteins.fasta -db goodProteins.fasta -evalue 1e-05\n"
     ]
    }
   ],
   "source": [
    "print(cLineProtein)"
   ]
  },
  {
   "cell_type": "code",
   "execution_count": 8,
   "id": "sunset-weekend",
   "metadata": {},
   "outputs": [],
   "source": [
    "stdout, stderr = cLineProtein()"
   ]
  },
  {
   "cell_type": "code",
   "execution_count": 9,
   "id": "pressed-monitoring",
   "metadata": {},
   "outputs": [],
   "source": [
    "# Execução do BLASTP (Formato CSV)\n",
    "cLineProteinCSV = NcbiblastpCommandline(query=\"goodProteins.fasta\", db=\"goodProteins.fasta\",\n",
    "                                     evalue=1e-5, outfmt=10, out=\"resultado.csv\")"
   ]
  },
  {
   "cell_type": "code",
   "execution_count": 10,
   "id": "noticed-extension",
   "metadata": {},
   "outputs": [],
   "source": [
    "stdout, stderr = cLineProteinCSV()"
   ]
  },
  {
   "cell_type": "markdown",
   "id": "weighted-quarterly",
   "metadata": {},
   "source": [
    "# Aplicação do Spark para leitura de arquivo tabular como csv"
   ]
  },
  {
   "cell_type": "code",
   "execution_count": 11,
   "id": "instant-retreat",
   "metadata": {},
   "outputs": [],
   "source": [
    "from pyspark.sql import SparkSession"
   ]
  },
  {
   "cell_type": "code",
   "execution_count": 12,
   "id": "administrative-difference",
   "metadata": {},
   "outputs": [],
   "source": [
    "spark = SparkSession.builder.appName('blast').getOrCreate()"
   ]
  },
  {
   "cell_type": "code",
   "execution_count": 36,
   "id": "tracked-portable",
   "metadata": {},
   "outputs": [
    {
     "data": {
      "text/plain": [
       "DataFrame[_c0: string, _c1: string, _c2: string, _c3: string, _c4: string, _c5: string, _c6: string, _c7: string, _c8: string, _c9: string, _c10: string, _c11: string]"
      ]
     },
     "execution_count": 36,
     "metadata": {},
     "output_type": "execute_result"
    }
   ],
   "source": [
    "blastDF = spark.read.csv(\"resultado_tabular\", sep=\"\\t\")\n",
    "#peopleDF.select(\"name\", \"age\").write.format(\"parquet\").save(\"namesAndAges.parquet\")\n",
    "blastDF"
   ]
  },
  {
   "cell_type": "code",
   "execution_count": 37,
   "id": "mighty-mongolia",
   "metadata": {},
   "outputs": [
    {
     "name": "stdout",
     "output_type": "stream",
     "text": [
      "+-----------+------------+-------+---+---+---+---+---+---+---+---------+----+\n",
      "|        _c0|         _c1|    _c2|_c3|_c4|_c5|_c6|_c7|_c8|_c9|     _c10|_c11|\n",
      "+-----------+------------+-------+---+---+---+---+---+---+---+---------+----+\n",
      "|sac|YPL071C| sac|YPL071C|100.000|156|  0|  0|  1|156|  1|156|8.30e-115| 320|\n",
      "|sac|YLL050C| sac|YLL050C|100.000|143|  0|  0|  1|143|  1|143|2.53e-104| 293|\n",
      "|sac|YLL050C|lei|CBZ12381| 31.884|138| 87|  5|  1|136|  1|133| 1.83e-14|65.1|\n",
      "|sac|YMR172W| sac|YMR172W|100.000|719|  0|  0|  1|719|  1|719|      0.0|1471|\n",
      "|sac|YMR172W| sac|YOL116W| 39.000|100| 57|  2|617|715|278|374| 1.56e-16|81.3|\n",
      "|sac|YOR185C| sac|YOR185C|100.000|220|  0|  0|  1|220|  1|220|8.56e-169| 462|\n",
      "|sac|YOR185C| sac|YLR293C| 97.727|220|  4|  1|  1|220|  1|219|1.07e-162| 447|\n",
      "|sac|YOR185C|lei|CAJ05272| 69.082|207| 64|  0| 11|217|  9|215|1.43e-107| 307|\n",
      "|sac|YOR185C|lei|CAJ02862| 35.185|162|102|  2| 13|171|  7|168| 1.15e-30| 111|\n",
      "|sac|YOR185C| sac|YOR089C| 34.118|170|106|  3|  8|171|  2|171| 5.26e-27| 102|\n",
      "|sac|YOR185C|lei|CBZ12137| 31.579|190|122|  4| 14|195|  9|198| 1.47e-26| 100|\n",
      "|sac|YOR185C| sac|YNL093W| 34.463|177|105|  4|  6|171|  3|179| 2.89e-26| 100|\n",
      "|sac|YOR185C|lei|CAJ08707| 34.211|152| 98|  2| 14|164| 33|183| 9.19e-26|99.4|\n",
      "|sac|YOR185C|lei|CAJ08729| 30.159|189|128|  3| 14|198|  8|196| 2.32e-24|95.1|\n",
      "|sac|YOR185C| sac|YER031C| 32.468|154|101|  2| 14|164| 14|167| 5.05e-24|94.7|\n",
      "|sac|YOR185C|lei|CAJ08532| 28.272|191|121|  5| 14|198|  9|189| 8.06e-24|93.6|\n",
      "|sac|YOR185C| sac|YLR262C| 29.480|173|115|  3|  5|171|  2|173| 1.19e-23|93.6|\n",
      "|sac|YOR185C|lei|CAJ04282| 33.333|174|102|  5| 13|172|  9|182| 1.21e-23|95.1|\n",
      "|sac|YOR185C| sac|YFL038C| 31.056|161|108|  2| 14|171|  9|169| 1.61e-23|92.8|\n",
      "|sac|YOR185C|lei|CAJ03806| 30.270|185|101|  4| 14|170|  8|192| 2.39e-23|92.8|\n",
      "+-----------+------------+-------+---+---+---+---+---+---+---+---------+----+\n",
      "only showing top 20 rows\n",
      "\n"
     ]
    }
   ],
   "source": [
    "blastDF.show()"
   ]
  },
  {
   "cell_type": "markdown",
   "id": "after-consortium",
   "metadata": {},
   "source": [
    "## Aplicação do Spark para leitura de arquivo CSV e conversão para o formato parquet"
   ]
  },
  {
   "cell_type": "code",
   "execution_count": 42,
   "id": "coordinated-stopping",
   "metadata": {},
   "outputs": [],
   "source": [
    "blastDF.write.parquet(\"resultado.parquet\")"
   ]
  },
  {
   "cell_type": "code",
   "execution_count": 43,
   "id": "optional-conspiracy",
   "metadata": {},
   "outputs": [],
   "source": [
    "parquetFileDF = spark.read.parquet(\"resultado.parquet\")"
   ]
  },
  {
   "cell_type": "code",
   "execution_count": 44,
   "id": "gross-share",
   "metadata": {
    "scrolled": true
   },
   "outputs": [
    {
     "name": "stdout",
     "output_type": "stream",
     "text": [
      "+-----------+------------+-------+---+---+---+---+---+---+---+---------+----+\n",
      "|        _c0|         _c1|    _c2|_c3|_c4|_c5|_c6|_c7|_c8|_c9|     _c10|_c11|\n",
      "+-----------+------------+-------+---+---+---+---+---+---+---+---------+----+\n",
      "|sac|YPL071C| sac|YPL071C|100.000|156|  0|  0|  1|156|  1|156|8.30e-115| 320|\n",
      "|sac|YLL050C| sac|YLL050C|100.000|143|  0|  0|  1|143|  1|143|2.53e-104| 293|\n",
      "|sac|YLL050C|lei|CBZ12381| 31.884|138| 87|  5|  1|136|  1|133| 1.83e-14|65.1|\n",
      "|sac|YMR172W| sac|YMR172W|100.000|719|  0|  0|  1|719|  1|719|      0.0|1471|\n",
      "|sac|YMR172W| sac|YOL116W| 39.000|100| 57|  2|617|715|278|374| 1.56e-16|81.3|\n",
      "|sac|YOR185C| sac|YOR185C|100.000|220|  0|  0|  1|220|  1|220|8.56e-169| 462|\n",
      "|sac|YOR185C| sac|YLR293C| 97.727|220|  4|  1|  1|220|  1|219|1.07e-162| 447|\n",
      "|sac|YOR185C|lei|CAJ05272| 69.082|207| 64|  0| 11|217|  9|215|1.43e-107| 307|\n",
      "|sac|YOR185C|lei|CAJ02862| 35.185|162|102|  2| 13|171|  7|168| 1.15e-30| 111|\n",
      "|sac|YOR185C| sac|YOR089C| 34.118|170|106|  3|  8|171|  2|171| 5.26e-27| 102|\n",
      "|sac|YOR185C|lei|CBZ12137| 31.579|190|122|  4| 14|195|  9|198| 1.47e-26| 100|\n",
      "|sac|YOR185C| sac|YNL093W| 34.463|177|105|  4|  6|171|  3|179| 2.89e-26| 100|\n",
      "|sac|YOR185C|lei|CAJ08707| 34.211|152| 98|  2| 14|164| 33|183| 9.19e-26|99.4|\n",
      "|sac|YOR185C|lei|CAJ08729| 30.159|189|128|  3| 14|198|  8|196| 2.32e-24|95.1|\n",
      "|sac|YOR185C| sac|YER031C| 32.468|154|101|  2| 14|164| 14|167| 5.05e-24|94.7|\n",
      "|sac|YOR185C|lei|CAJ08532| 28.272|191|121|  5| 14|198|  9|189| 8.06e-24|93.6|\n",
      "|sac|YOR185C| sac|YLR262C| 29.480|173|115|  3|  5|171|  2|173| 1.19e-23|93.6|\n",
      "|sac|YOR185C|lei|CAJ04282| 33.333|174|102|  5| 13|172|  9|182| 1.21e-23|95.1|\n",
      "|sac|YOR185C| sac|YFL038C| 31.056|161|108|  2| 14|171|  9|169| 1.61e-23|92.8|\n",
      "|sac|YOR185C|lei|CAJ03806| 30.270|185|101|  4| 14|170|  8|192| 2.39e-23|92.8|\n",
      "+-----------+------------+-------+---+---+---+---+---+---+---+---------+----+\n",
      "only showing top 20 rows\n",
      "\n"
     ]
    }
   ],
   "source": [
    "parquetFileDF.show()"
   ]
  },
  {
   "cell_type": "code",
   "execution_count": 45,
   "id": "activated-humanitarian",
   "metadata": {},
   "outputs": [],
   "source": [
    "# Parquet files can also be used to create a temporary view and then used in SQL statements\n",
    "parquetFileDF.createOrReplaceTempView(\"parquetFile\")"
   ]
  },
  {
   "cell_type": "code",
   "execution_count": 46,
   "id": "mathematical-concept",
   "metadata": {},
   "outputs": [
    {
     "name": "stdout",
     "output_type": "stream",
     "text": [
      "+-----------+-----------+-------+---+---+---+---+---+---+---+---------+----+\n",
      "|        _c0|        _c1|    _c2|_c3|_c4|_c5|_c6|_c7|_c8|_c9|     _c10|_c11|\n",
      "+-----------+-----------+-------+---+---+---+---+---+---+---+---------+----+\n",
      "|sac|YPL071C|sac|YPL071C|100.000|156|  0|  0|  1|156|  1|156|8.30e-115| 320|\n",
      "+-----------+-----------+-------+---+---+---+---+---+---+---+---------+----+\n",
      "\n"
     ]
    }
   ],
   "source": [
    "'''\n",
    "    Nessa primeira consulta, ela filtra todas as linhas em que se encontra a proteína\n",
    "    'sac|YOR185C' na coluna _c0 e _c1\n",
    "'''\n",
    "query = spark.sql(\"SELECT * FROM parquetFile WHERE _c0 = 'sac|YPL071C' OR _c1 = 'sac|YPL071C'\")\n",
    "query.show() # Para mostrar as primeiras linhas"
   ]
  },
  {
   "cell_type": "code",
   "execution_count": 47,
   "id": "sixth-hamilton",
   "metadata": {},
   "outputs": [
    {
     "data": {
      "text/plain": [
       "[Row(_c0='sac|YPL071C', _c1='sac|YPL071C', _c2='100.000', _c3='156', _c4='0', _c5='0', _c6='1', _c7='156', _c8='1', _c9='156', _c10='8.30e-115', _c11='320')]"
      ]
     },
     "execution_count": 47,
     "metadata": {},
     "output_type": "execute_result"
    }
   ],
   "source": [
    "# Mostra todas linhas, além de coletar para criar outra base\n",
    "query.collect()"
   ]
  },
  {
   "cell_type": "code",
   "execution_count": 48,
   "id": "isolated-creation",
   "metadata": {},
   "outputs": [
    {
     "name": "stdout",
     "output_type": "stream",
     "text": [
      "+--------+\n",
      "|count(1)|\n",
      "+--------+\n",
      "|     294|\n",
      "+--------+\n",
      "\n"
     ]
    }
   ],
   "source": [
    "'''\n",
    "    Nessa segunda consulta, ela conta todas as linhas em que a coluna _c4 = 200\n",
    "'''\n",
    "query = spark.sql(\"SELECT count(*)FROM parquetFile WHERE _c4 = 200\")\n",
    "query.show() # Para mostrar as primeiras linhas"
   ]
  },
  {
   "cell_type": "code",
   "execution_count": 49,
   "id": "falling-memorial",
   "metadata": {},
   "outputs": [
    {
     "name": "stdout",
     "output_type": "stream",
     "text": [
      "+------------+----------+\n",
      "|         _c0|count(_c4)|\n",
      "+------------+----------+\n",
      "|lei|CAJ05207|         1|\n",
      "|lei|CAJ05828|         1|\n",
      "|lei|CAJ03416|         1|\n",
      "|lei|CAJ06470|         1|\n",
      "| sac|YPL226W|         1|\n",
      "|lei|CAJ03906|         2|\n",
      "|lei|CAJ06341|         1|\n",
      "| sac|YHR001W|         1|\n",
      "|lei|CAJ08631|         1|\n",
      "| sac|YPL256C|         1|\n",
      "|lei|CBZ12160|         1|\n",
      "| sac|YDL101C|         1|\n",
      "|lei|CAJ04177|         2|\n",
      "| sac|YDL119C|         1|\n",
      "|lei|CAJ04492|         4|\n",
      "| sac|YFL039C|         1|\n",
      "|lei|CAJ06500|         1|\n",
      "|lei|CAJ09455|         1|\n",
      "| sac|YLL024C|         1|\n",
      "|lei|CAJ05381|         2|\n",
      "+------------+----------+\n",
      "only showing top 20 rows\n",
      "\n"
     ]
    }
   ],
   "source": [
    "'''\n",
    "    Nessa terceira consulta, ela conta todas as linhas em que a coluna _c4 = 200 e agrupa \n",
    "    pela coluna _c0\n",
    "'''\n",
    "query = spark.sql(\"SELECT _c0, count(_c4) FROM parquetFile WHERE _c4 = 200 GROUP BY _c0\")\n",
    "query.show() # Para mostrar as primeiras linhas"
   ]
  },
  {
   "cell_type": "code",
   "execution_count": null,
   "id": "stopped-quest",
   "metadata": {},
   "outputs": [],
   "source": []
  }
 ],
 "metadata": {
  "kernelspec": {
   "display_name": "Python 3",
   "language": "python",
   "name": "python3"
  },
  "language_info": {
   "codemirror_mode": {
    "name": "ipython",
    "version": 3
   },
   "file_extension": ".py",
   "mimetype": "text/x-python",
   "name": "python",
   "nbconvert_exporter": "python",
   "pygments_lexer": "ipython3",
   "version": "3.8.5"
  }
 },
 "nbformat": 4,
 "nbformat_minor": 5
}
