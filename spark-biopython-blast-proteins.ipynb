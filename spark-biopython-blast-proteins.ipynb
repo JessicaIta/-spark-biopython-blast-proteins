{
 "cells": [
  {
   "cell_type": "markdown",
   "id": "square-regulation",
   "metadata": {},
   "source": [
    "# BLAST Proteins\n",
    "\n",
    "Execução do BLAST através do Biopython no ambiente jupyter."
   ]
  },
  {
   "cell_type": "code",
   "execution_count": 11,
   "id": "micro-maine",
   "metadata": {},
   "outputs": [],
   "source": [
    "from Bio.Blast.Applications import NcbimakeblastdbCommandline\n",
    "from Bio.Blast.Applications import NcbiblastpCommandline"
   ]
  },
  {
   "cell_type": "code",
   "execution_count": 12,
   "id": "corrected-lebanon",
   "metadata": {},
   "outputs": [],
   "source": [
    "#Criação do banco\n",
    "cLine = NcbimakeblastdbCommandline(dbtype=\"prot\", title=\"goodProteins\", input_file=\"goodProteins.fasta\")"
   ]
  },
  {
   "cell_type": "code",
   "execution_count": 13,
   "id": "disturbed-friday",
   "metadata": {},
   "outputs": [
    {
     "data": {
      "text/plain": [
       "NcbimakeblastdbCommandline(cmd='makeblastdb', dbtype='prot', input_file='goodProteins.fasta', title='goodProteins')"
      ]
     },
     "execution_count": 13,
     "metadata": {},
     "output_type": "execute_result"
    }
   ],
   "source": [
    "cLine"
   ]
  },
  {
   "cell_type": "code",
   "execution_count": 14,
   "id": "beginning-gardening",
   "metadata": {},
   "outputs": [
    {
     "name": "stdout",
     "output_type": "stream",
     "text": [
      "makeblastdb -dbtype prot -in goodProteins.fasta -title goodProteins\n"
     ]
    }
   ],
   "source": [
    "print(cLine)"
   ]
  },
  {
   "cell_type": "code",
   "execution_count": 15,
   "id": "fatal-finder",
   "metadata": {},
   "outputs": [],
   "source": [
    "stdout, stderr = cLine()"
   ]
  },
  {
   "cell_type": "code",
   "execution_count": 19,
   "id": "agricultural-terrorism",
   "metadata": {},
   "outputs": [],
   "source": [
    "# Execução do BLASTP\n",
    "cLineProtein = NcbiblastpCommandline(query=\"goodProteins.fasta\", db=\"goodProteins.fasta\",\n",
    "                                     evalue=1e-5, outfmt=6, out=\"resultado_tabular\")"
   ]
  },
  {
   "cell_type": "code",
   "execution_count": 20,
   "id": "immediate-prairie",
   "metadata": {},
   "outputs": [
    {
     "name": "stdout",
     "output_type": "stream",
     "text": [
      "blastp -out resultado_tabular -outfmt 6 -query goodProteins.fasta -db goodProteins.fasta -evalue 1e-05\n"
     ]
    }
   ],
   "source": [
    "print(cLineProtein)"
   ]
  },
  {
   "cell_type": "code",
   "execution_count": 21,
   "id": "sunset-weekend",
   "metadata": {},
   "outputs": [],
   "source": [
    "stdout, stderr = cLineProtein()"
   ]
  },
  {
   "cell_type": "code",
   "execution_count": null,
   "id": "pressed-monitoring",
   "metadata": {},
   "outputs": [],
   "source": [
    "# Execução do BLASTP (Formato CSV)\n",
    "cLineProteinCSV = NcbiblastpCommandline(query=\"goodProteins.fasta\", db=\"goodProteins.fasta\",\n",
    "                                     evalue=1e-5, outfmt=6, out=\"resultado.csv\")"
   ]
  },
  {
   "cell_type": "code",
   "execution_count": null,
   "id": "noticed-extension",
   "metadata": {},
   "outputs": [],
   "source": [
    "stdout, stderr = cLineProteinCSV()"
   ]
  },
  {
   "cell_type": "markdown",
   "id": "weighted-quarterly",
   "metadata": {},
   "source": [
    "# Aplicação do Spark para leitura de arquivo tabular"
   ]
  },
  {
   "cell_type": "code",
   "execution_count": 22,
   "id": "instant-retreat",
   "metadata": {},
   "outputs": [],
   "source": [
    "from pyspark.sql import SparkSession"
   ]
  },
  {
   "cell_type": "code",
   "execution_count": 23,
   "id": "administrative-difference",
   "metadata": {},
   "outputs": [],
   "source": [
    "spark = SparkSession.builder.appName('blast').getOrCreate()"
   ]
  },
  {
   "cell_type": "code",
   "execution_count": 29,
   "id": "tracked-portable",
   "metadata": {},
   "outputs": [
    {
     "data": {
      "text/plain": [
       "DataFrame[value: string]"
      ]
     },
     "execution_count": 29,
     "metadata": {},
     "output_type": "execute_result"
    }
   ],
   "source": [
    "blastDF = spark.read.text(\"resultado_tabular\")\n",
    "#peopleDF.select(\"name\", \"age\").write.format(\"parquet\").save(\"namesAndAges.parquet\")\n",
    "blastDF"
   ]
  },
  {
   "cell_type": "code",
   "execution_count": 31,
   "id": "mighty-mongolia",
   "metadata": {},
   "outputs": [
    {
     "name": "stdout",
     "output_type": "stream",
     "text": [
      "+--------------------+\n",
      "|               value|\n",
      "+--------------------+\n",
      "|sac|YPL071C\tsac|Y...|\n",
      "|sac|YLL050C\tsac|Y...|\n",
      "|sac|YLL050C\tlei|C...|\n",
      "|sac|YMR172W\tsac|Y...|\n",
      "|sac|YMR172W\tsac|Y...|\n",
      "|sac|YOR185C\tsac|Y...|\n",
      "|sac|YOR185C\tsac|Y...|\n",
      "|sac|YOR185C\tlei|C...|\n",
      "|sac|YOR185C\tlei|C...|\n",
      "|sac|YOR185C\tsac|Y...|\n",
      "|sac|YOR185C\tlei|C...|\n",
      "|sac|YOR185C\tsac|Y...|\n",
      "|sac|YOR185C\tlei|C...|\n",
      "|sac|YOR185C\tlei|C...|\n",
      "|sac|YOR185C\tsac|Y...|\n",
      "|sac|YOR185C\tlei|C...|\n",
      "|sac|YOR185C\tsac|Y...|\n",
      "|sac|YOR185C\tlei|C...|\n",
      "|sac|YOR185C\tsac|Y...|\n",
      "|sac|YOR185C\tlei|C...|\n",
      "+--------------------+\n",
      "only showing top 20 rows\n",
      "\n"
     ]
    }
   ],
   "source": [
    "blastDF.show()"
   ]
  },
  {
   "cell_type": "code",
   "execution_count": 37,
   "id": "reverse-cookbook",
   "metadata": {},
   "outputs": [
    {
     "data": {
      "text/plain": [
       "[Row(value='sac|YOR185C\\tsac|YOR185C\\t100.000\\t220\\t0\\t0\\t1\\t220\\t1\\t220\\t8.56e-169\\t462'),\n",
       " Row(value='sac|YOR185C\\tsac|YLR293C\\t97.727\\t220\\t4\\t1\\t1\\t220\\t1\\t219\\t1.07e-162\\t447'),\n",
       " Row(value='sac|YOR185C\\tlei|CAJ05272\\t69.082\\t207\\t64\\t0\\t11\\t217\\t9\\t215\\t1.43e-107\\t307'),\n",
       " Row(value='sac|YOR185C\\tlei|CAJ02862\\t35.185\\t162\\t102\\t2\\t13\\t171\\t7\\t168\\t1.15e-30\\t111'),\n",
       " Row(value='sac|YOR185C\\tsac|YOR089C\\t34.118\\t170\\t106\\t3\\t8\\t171\\t2\\t171\\t5.26e-27\\t102'),\n",
       " Row(value='sac|YOR185C\\tlei|CBZ12137\\t31.579\\t190\\t122\\t4\\t14\\t195\\t9\\t198\\t1.47e-26\\t100'),\n",
       " Row(value='sac|YOR185C\\tsac|YNL093W\\t34.463\\t177\\t105\\t4\\t6\\t171\\t3\\t179\\t2.89e-26\\t100'),\n",
       " Row(value='sac|YOR185C\\tlei|CAJ08707\\t34.211\\t152\\t98\\t2\\t14\\t164\\t33\\t183\\t9.19e-26\\t99.4'),\n",
       " Row(value='sac|YOR185C\\tlei|CAJ08729\\t30.159\\t189\\t128\\t3\\t14\\t198\\t8\\t196\\t2.32e-24\\t95.1'),\n",
       " Row(value='sac|YOR185C\\tsac|YER031C\\t32.468\\t154\\t101\\t2\\t14\\t164\\t14\\t167\\t5.05e-24\\t94.7'),\n",
       " Row(value='sac|YOR185C\\tlei|CAJ08532\\t28.272\\t191\\t121\\t5\\t14\\t198\\t9\\t189\\t8.06e-24\\t93.6'),\n",
       " Row(value='sac|YOR185C\\tsac|YLR262C\\t29.480\\t173\\t115\\t3\\t5\\t171\\t2\\t173\\t1.19e-23\\t93.6'),\n",
       " Row(value='sac|YOR185C\\tlei|CAJ04282\\t33.333\\t174\\t102\\t5\\t13\\t172\\t9\\t182\\t1.21e-23\\t95.1'),\n",
       " Row(value='sac|YOR185C\\tsac|YFL038C\\t31.056\\t161\\t108\\t2\\t14\\t171\\t9\\t169\\t1.61e-23\\t92.8'),\n",
       " Row(value='sac|YOR185C\\tlei|CAJ03806\\t30.270\\t185\\t101\\t4\\t14\\t170\\t8\\t192\\t2.39e-23\\t92.8'),\n",
       " Row(value='sac|YOR185C\\tlei|CAJ09600\\t30.769\\t169\\t113\\t2\\t10\\t174\\t5\\t173\\t4.76e-23\\t93.6'),\n",
       " Row(value='sac|YOR185C\\tlei|CAJ02473\\t32.571\\t175\\t111\\t4\\t2\\t171\\t10\\t182\\t1.07e-22\\t90.9'),\n",
       " Row(value='sac|YOR185C\\tsac|YML001W\\t30.723\\t166\\t105\\t4\\t14\\t169\\t9\\t174\\t1.60e-22\\t90.1'),\n",
       " Row(value='sac|YOR185C\\tsac|YGL210W\\t31.847\\t157\\t104\\t2\\t14\\t167\\t14\\t170\\t2.21e-22\\t90.1'),\n",
       " Row(value='sac|YOR185C\\tsac|YFL005W\\t29.651\\t172\\t118\\t3\\t1\\t169\\t7\\t178\\t1.54e-21\\t87.8'),\n",
       " Row(value='sac|YOR185C\\tsac|YBR264C\\t32.692\\t156\\t97\\t2\\t13\\t161\\t4\\t158\\t2.86e-21\\t86.7'),\n",
       " Row(value='sac|YOR185C\\tsac|YKR014C\\t29.474\\t190\\t102\\t5\\t14\\t171\\t4\\t193\\t5.73e-20\\t84.0'),\n",
       " Row(value='sac|YOR185C\\tlei|CBZ11916\\t30.636\\t173\\t113\\t5\\t5\\t171\\t16\\t187\\t7.06e-20\\t84.7'),\n",
       " Row(value='sac|YOR185C\\tlei|CAJ07017\\t29.032\\t186\\t124\\t3\\t14\\t196\\t7\\t187\\t6.98e-19\\t80.9'),\n",
       " Row(value='sac|YOR185C\\tlei|CAJ03989\\t29.319\\t191\\t102\\t5\\t10\\t171\\t10\\t196\\t1.65e-18\\t80.1'),\n",
       " Row(value='sac|YOR185C\\tlei|CAJ03017\\t28.025\\t157\\t105\\t5\\t14\\t164\\t15\\t169\\t3.48e-18\\t79.0'),\n",
       " Row(value='sac|YOR185C\\tsac|YIL118W\\t33.071\\t127\\t83\\t2\\t15\\t140\\t18\\t143\\t1.48e-17\\t77.4'),\n",
       " Row(value='sac|YOR185C\\tlei|CAJ03022\\t27.419\\t186\\t112\\t5\\t13\\t175\\t6\\t191\\t2.81e-17\\t76.6'),\n",
       " Row(value='sac|YOR185C\\tlei|CAJ06306\\t26.627\\t169\\t115\\t3\\t14\\t173\\t15\\t183\\t7.48e-17\\t75.9'),\n",
       " Row(value='sac|YOR185C\\tsac|YPR165W\\t28.313\\t166\\t102\\t4\\t15\\t164\\t12\\t176\\t1.05e-16\\t74.7'),\n",
       " Row(value='sac|YOR185C\\tsac|YKR055W\\t36.667\\t120\\t73\\t3\\t14\\t131\\t73\\t191\\t1.15e-16\\t76.3'),\n",
       " Row(value='sac|YOR185C\\tlei|CAJ06472\\t25.989\\t177\\t113\\t5\\t13\\t171\\t10\\t186\\t1.78e-14\\t68.9'),\n",
       " Row(value='sac|YOR185C\\tsac|YLR229C\\t26.471\\t136\\t98\\t2\\t13\\t147\\t3\\t137\\t5.53e-13\\t64.3'),\n",
       " Row(value='sac|YOR185C\\tsac|YNL090W\\t32.800\\t125\\t68\\t3\\t15\\t131\\t9\\t125\\t1.05e-12\\t63.5'),\n",
       " Row(value='sac|YOR185C\\tsac|YNL098C\\t30.000\\t110\\t73\\t3\\t64\\t169\\t60\\t169\\t1.97e-12\\t64.3'),\n",
       " Row(value='sac|YOR185C\\tlei|CAJ03043\\t30.400\\t125\\t79\\t3\\t13\\t129\\t106\\t230\\t3.11e-12\\t64.3'),\n",
       " Row(value='sac|YOR185C\\tlei|CAJ02739\\t24.324\\t148\\t82\\t3\\t2\\t119\\t59\\t206\\t4.28e-11\\t60.5'),\n",
       " Row(value='sac|YOR185C\\tsac|YOR101W\\t30.000\\t110\\t73\\t3\\t64\\t169\\t60\\t169\\t4.33e-11\\t60.5'),\n",
       " Row(value='sac|YOR185C\\tsac|YGR152C\\t26.012\\t173\\t121\\t6\\t14\\t181\\t4\\t174\\t7.51e-11\\t59.7'),\n",
       " Row(value='sac|YOR185C\\tsac|YML064C\\t27.132\\t129\\t90\\t2\\t2\\t129\\t11\\t136\\t8.58e-10\\t56.2'),\n",
       " Row(value='sac|YOR185C\\tsac|YCR027C\\t26.012\\t173\\t111\\t5\\t15\\t171\\t18\\t189\\t1.08e-09\\t55.5'),\n",
       " Row(value='sac|YOR185C\\tlei|CBZ12340\\t22.652\\t181\\t135\\t4\\t14\\t189\\t6\\t186\\t5.20e-08\\t50.4'),\n",
       " Row(value='sac|YOR185C\\tsac|YDL137W\\t32.941\\t85\\t52\\t2\\t14\\t98\\t18\\t97\\t4.07e-06\\t45.1'),\n",
       " Row(value='sac|YOR185C\\tsac|YDL192W\\t35.294\\t85\\t50\\t3\\t14\\t98\\t18\\t97\\t6.21e-06\\t44.3'),\n",
       " Row(value='sac|YKR014C\\tsac|YOR185C\\t29.474\\t190\\t102\\t5\\t4\\t193\\t14\\t171\\t6.09e-20\\t84.0'),\n",
       " Row(value='sac|YML001W\\tsac|YOR185C\\t30.723\\t166\\t105\\t4\\t9\\t174\\t14\\t169\\t1.51e-22\\t90.1'),\n",
       " Row(value='sac|YML064C\\tsac|YOR185C\\t27.132\\t129\\t90\\t2\\t11\\t136\\t2\\t129\\t6.42e-10\\t56.6'),\n",
       " Row(value='sac|YGR152C\\tsac|YOR185C\\t26.012\\t173\\t121\\t6\\t4\\t174\\t14\\t181\\t9.28e-11\\t59.7'),\n",
       " Row(value='sac|YGL210W\\tsac|YOR185C\\t31.847\\t157\\t104\\t2\\t14\\t170\\t14\\t167\\t2.23e-22\\t90.1'),\n",
       " Row(value='sac|YLR262C\\tsac|YOR185C\\t29.480\\t173\\t115\\t3\\t2\\t173\\t5\\t171\\t1.17e-23\\t93.6'),\n",
       " Row(value='sac|YIL118W\\tsac|YOR185C\\t33.071\\t127\\t83\\t2\\t18\\t143\\t15\\t140\\t1.55e-17\\t77.4'),\n",
       " Row(value='sac|YBR264C\\tsac|YOR185C\\t32.692\\t156\\t97\\t2\\t4\\t158\\t13\\t161\\t2.59e-21\\t86.7'),\n",
       " Row(value='sac|YNL098C\\tsac|YOR185C\\t28.743\\t167\\t114\\t4\\t4\\t169\\t7\\t169\\t1.98e-16\\t76.3'),\n",
       " Row(value='sac|YLR293C\\tsac|YOR185C\\t97.727\\t220\\t4\\t1\\t1\\t219\\t1\\t220\\t1.07e-162\\t447'),\n",
       " Row(value='sac|YNL090W\\tsac|YOR185C\\t32.800\\t125\\t68\\t3\\t9\\t125\\t15\\t131\\t9.20e-13\\t63.5'),\n",
       " Row(value='sac|YER031C\\tsac|YOR185C\\t32.468\\t154\\t101\\t2\\t14\\t167\\t14\\t164\\t5.11e-24\\t94.7'),\n",
       " Row(value='sac|YNL093W\\tsac|YOR185C\\t34.463\\t177\\t105\\t4\\t3\\t179\\t6\\t171\\t2.89e-26\\t100'),\n",
       " Row(value='sac|YKR055W\\tsac|YOR185C\\t36.667\\t120\\t73\\t3\\t73\\t191\\t14\\t131\\t1.52e-16\\t76.3'),\n",
       " Row(value='sac|YOR089C\\tsac|YOR185C\\t34.118\\t170\\t106\\t3\\t2\\t171\\t8\\t171\\t5.02e-27\\t102'),\n",
       " Row(value='sac|YOR101W\\tsac|YOR185C\\t28.144\\t167\\t115\\t4\\t4\\t169\\t7\\t169\\t4.64e-15\\t72.4'),\n",
       " Row(value='sac|YPR165W\\tsac|YOR185C\\t28.313\\t166\\t102\\t4\\t12\\t176\\t15\\t164\\t2.49e-16\\t73.6'),\n",
       " Row(value='sac|YLR229C\\tsac|YOR185C\\t26.471\\t136\\t98\\t2\\t3\\t137\\t13\\t147\\t4.80e-13\\t64.3'),\n",
       " Row(value='sac|YDL192W\\tsac|YOR185C\\t35.294\\t85\\t50\\t3\\t18\\t97\\t14\\t98\\t5.11e-06\\t44.3'),\n",
       " Row(value='sac|YFL005W\\tsac|YOR185C\\t29.651\\t172\\t118\\t3\\t7\\t178\\t1\\t169\\t1.90e-21\\t87.4'),\n",
       " Row(value='sac|YFL038C\\tsac|YOR185C\\t31.056\\t161\\t108\\t2\\t9\\t169\\t14\\t171\\t1.50e-23\\t92.8'),\n",
       " Row(value='sac|YDL137W\\tsac|YOR185C\\t32.941\\t85\\t52\\t2\\t18\\t97\\t14\\t98\\t3.35e-06\\t45.1'),\n",
       " Row(value='sac|YCR027C\\tsac|YOR185C\\t26.012\\t173\\t111\\t5\\t18\\t189\\t15\\t171\\t1.03e-09\\t55.5'),\n",
       " Row(value='lei|CBZ11916\\tsac|YOR185C\\t31.548\\t168\\t108\\t5\\t21\\t187\\t10\\t171\\t4.16e-19\\t82.8'),\n",
       " Row(value='lei|CAC22699\\tsac|YOR185C\\t26.380\\t163\\t96\\t6\\t19\\t160\\t15\\t174\\t8.90e-06\\t43.9'),\n",
       " Row(value='lei|CAJ07017\\tsac|YOR185C\\t30.108\\t186\\t122\\t4\\t7\\t187\\t14\\t196\\t1.81e-20\\t85.1'),\n",
       " Row(value='lei|CAJ02739\\tsac|YOR185C\\t24.026\\t154\\t87\\t3\\t59\\t212\\t2\\t125\\t1.33e-10\\t59.7'),\n",
       " Row(value='lei|CAJ03022\\tsac|YOR185C\\t27.419\\t186\\t112\\t5\\t6\\t191\\t13\\t175\\t2.83e-17\\t76.6'),\n",
       " Row(value='lei|CAJ02862\\tsac|YOR185C\\t35.185\\t162\\t102\\t2\\t7\\t168\\t13\\t171\\t1.08e-30\\t111'),\n",
       " Row(value='lei|CAJ03017\\tsac|YOR185C\\t28.025\\t157\\t105\\t5\\t15\\t169\\t14\\t164\\t3.42e-18\\t79.0'),\n",
       " Row(value='lei|CAJ02473\\tsac|YOR185C\\t32.571\\t175\\t111\\t4\\t10\\t182\\t2\\t171\\t1.03e-22\\t90.9'),\n",
       " Row(value='lei|CAJ03043\\tsac|YOR185C\\t28.472\\t144\\t95\\t3\\t106\\t249\\t13\\t148\\t5.73e-13\\t67.0'),\n",
       " Row(value='lei|CAJ03806\\tsac|YOR185C\\t30.270\\t185\\t101\\t4\\t8\\t192\\t14\\t170\\t2.42e-23\\t92.8'),\n",
       " Row(value='lei|CAJ03989\\tsac|YOR185C\\t29.016\\t193\\t100\\t5\\t10\\t196\\t10\\t171\\t3.19e-18\\t79.3'),\n",
       " Row(value='lei|CAJ04282\\tsac|YOR185C\\t33.333\\t174\\t102\\t5\\t9\\t182\\t13\\t172\\t2.52e-23\\t94.4'),\n",
       " Row(value='lei|CAJ05272\\tsac|YOR185C\\t69.082\\t207\\t64\\t0\\t9\\t215\\t11\\t217\\t1.40e-107\\t307'),\n",
       " Row(value='lei|CBZ12137\\tsac|YOR185C\\t31.579\\t190\\t122\\t4\\t9\\t198\\t14\\t195\\t1.33e-26\\t100'),\n",
       " Row(value='lei|CBZ12340\\tsac|YOR185C\\t22.652\\t181\\t135\\t4\\t6\\t186\\t14\\t189\\t4.40e-08\\t50.4'),\n",
       " Row(value='lei|CAJ06306\\tsac|YOR185C\\t26.627\\t169\\t115\\t3\\t15\\t183\\t14\\t173\\t7.99e-17\\t75.9'),\n",
       " Row(value='lei|CAJ08532\\tsac|YOR185C\\t28.272\\t191\\t121\\t5\\t9\\t189\\t14\\t198\\t7.44e-24\\t93.6'),\n",
       " Row(value='lei|CAJ08707\\tsac|YOR185C\\t34.211\\t152\\t98\\t2\\t33\\t183\\t14\\t164\\t9.35e-26\\t99.4'),\n",
       " Row(value='lei|CAJ08729\\tsac|YOR185C\\t30.159\\t189\\t128\\t3\\t8\\t196\\t14\\t198\\t2.22e-24\\t95.1'),\n",
       " Row(value='lei|CAJ06472\\tsac|YOR185C\\t25.989\\t177\\t113\\t5\\t10\\t186\\t13\\t171\\t1.75e-14\\t68.9'),\n",
       " Row(value='lei|CAJ09600\\tsac|YOR185C\\t30.588\\t170\\t114\\t2\\t5\\t174\\t10\\t175\\t4.82e-23\\t94.0')]"
      ]
     },
     "execution_count": 37,
     "metadata": {},
     "output_type": "execute_result"
    }
   ],
   "source": [
    "# Linhas com a Proteína sac|YOR185C\n",
    "\n",
    "lines = blastDF.filter(blastDF.value.contains(\"sac|YOR185C\"))\n",
    "lines.collect()"
   ]
  },
  {
   "cell_type": "code",
   "execution_count": 36,
   "id": "revolutionary-progressive",
   "metadata": {},
   "outputs": [
    {
     "data": {
      "text/plain": [
       "88"
      ]
     },
     "execution_count": 36,
     "metadata": {},
     "output_type": "execute_result"
    }
   ],
   "source": [
    "# Quantidade de Linhas com a Proteína sac|YOR185C\n",
    "\n",
    "blastDF.filter(blastDF.value.contains(\"sac|YOR185C\")).count()"
   ]
  },
  {
   "cell_type": "code",
   "execution_count": null,
   "id": "linear-trade",
   "metadata": {},
   "outputs": [],
   "source": []
  }
 ],
 "metadata": {
  "kernelspec": {
   "display_name": "Python 3",
   "language": "python",
   "name": "python3"
  },
  "language_info": {
   "codemirror_mode": {
    "name": "ipython",
    "version": 3
   },
   "file_extension": ".py",
   "mimetype": "text/x-python",
   "name": "python",
   "nbconvert_exporter": "python",
   "pygments_lexer": "ipython3",
   "version": "3.8.5"
  }
 },
 "nbformat": 4,
 "nbformat_minor": 5
}
